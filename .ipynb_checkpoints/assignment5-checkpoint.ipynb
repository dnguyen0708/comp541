{
 "cells": [
  {
   "cell_type": "markdown",
   "metadata": {},
   "source": [
    "# Assignment5"
   ]
  },
  {
   "cell_type": "code",
   "execution_count": 1,
   "metadata": {},
   "outputs": [],
   "source": [
    "import pandas as pd\n",
    "from pandas import set_option\n",
    "import numpy as np\n",
    "import matplotlib.pyplot as plt\n",
    "import seaborn as sns\n"
   ]
  },
  {
   "cell_type": "code",
   "execution_count": 2,
   "metadata": {},
   "outputs": [],
   "source": [
    "from sklearn.feature_selection import SelectKBest,chi2"
   ]
  },
  {
   "cell_type": "code",
   "execution_count": 3,
   "metadata": {},
   "outputs": [],
   "source": [
    "import warnings\n",
    "warnings.filterwarnings('ignore')\n",
    "set_option('precision',3)\n",
    "pd.set_option('display.float_format', lambda x: '%.2f' % x)\n",
    "np.set_printoptions(precision=3, suppress=True)"
   ]
  },
  {
   "cell_type": "code",
   "execution_count": 4,
   "metadata": {},
   "outputs": [],
   "source": [
    "df = pd.read_csv(\"df_IQR.csv\")\n",
    "df_no_genres = pd.read_csv(\"df_no_genres.csv\")"
   ]
  },
  {
   "cell_type": "code",
   "execution_count": 5,
   "metadata": {},
   "outputs": [
    {
     "data": {
      "text/html": [
       "<div>\n",
       "<style scoped>\n",
       "    .dataframe tbody tr th:only-of-type {\n",
       "        vertical-align: middle;\n",
       "    }\n",
       "\n",
       "    .dataframe tbody tr th {\n",
       "        vertical-align: top;\n",
       "    }\n",
       "\n",
       "    .dataframe thead th {\n",
       "        text-align: right;\n",
       "    }\n",
       "</style>\n",
       "<table border=\"1\" class=\"dataframe\">\n",
       "  <thead>\n",
       "    <tr style=\"text-align: right;\">\n",
       "      <th></th>\n",
       "      <th>budget</th>\n",
       "      <th>genres</th>\n",
       "      <th>runtime</th>\n",
       "      <th>popularity</th>\n",
       "      <th>vote_average</th>\n",
       "      <th>release_month</th>\n",
       "      <th>revenue</th>\n",
       "    </tr>\n",
       "  </thead>\n",
       "  <tbody>\n",
       "    <tr>\n",
       "      <th>0</th>\n",
       "      <td>16000000.00</td>\n",
       "      <td>['Comedy', 'Drama', 'Romance']</td>\n",
       "      <td>127.00</td>\n",
       "      <td>3.86</td>\n",
       "      <td>6.10</td>\n",
       "      <td>12</td>\n",
       "      <td>81452156.00</td>\n",
       "    </tr>\n",
       "    <tr>\n",
       "      <th>1</th>\n",
       "      <td>35000000.00</td>\n",
       "      <td>['Action', 'Adventure', 'Thriller']</td>\n",
       "      <td>106.00</td>\n",
       "      <td>5.23</td>\n",
       "      <td>5.50</td>\n",
       "      <td>12</td>\n",
       "      <td>64350171.00</td>\n",
       "    </tr>\n",
       "    <tr>\n",
       "      <th>2</th>\n",
       "      <td>62000000.00</td>\n",
       "      <td>['Comedy', 'Drama', 'Romance']</td>\n",
       "      <td>106.00</td>\n",
       "      <td>6.32</td>\n",
       "      <td>6.50</td>\n",
       "      <td>11</td>\n",
       "      <td>107879496.00</td>\n",
       "    </tr>\n",
       "    <tr>\n",
       "      <th>3</th>\n",
       "      <td>16500000.00</td>\n",
       "      <td>['Drama', 'Romance']</td>\n",
       "      <td>136.00</td>\n",
       "      <td>10.67</td>\n",
       "      <td>7.20</td>\n",
       "      <td>12</td>\n",
       "      <td>135000000.00</td>\n",
       "    </tr>\n",
       "    <tr>\n",
       "      <th>4</th>\n",
       "      <td>4000000.00</td>\n",
       "      <td>['Crime', 'Comedy']</td>\n",
       "      <td>98.00</td>\n",
       "      <td>9.03</td>\n",
       "      <td>6.50</td>\n",
       "      <td>12</td>\n",
       "      <td>4300000.00</td>\n",
       "    </tr>\n",
       "  </tbody>\n",
       "</table>\n",
       "</div>"
      ],
      "text/plain": [
       "       budget                               genres  runtime  popularity  \\\n",
       "0 16000000.00       ['Comedy', 'Drama', 'Romance']   127.00        3.86   \n",
       "1 35000000.00  ['Action', 'Adventure', 'Thriller']   106.00        5.23   \n",
       "2 62000000.00       ['Comedy', 'Drama', 'Romance']   106.00        6.32   \n",
       "3 16500000.00                 ['Drama', 'Romance']   136.00       10.67   \n",
       "4  4000000.00                  ['Crime', 'Comedy']    98.00        9.03   \n",
       "\n",
       "   vote_average  release_month      revenue  \n",
       "0          6.10             12  81452156.00  \n",
       "1          5.50             12  64350171.00  \n",
       "2          6.50             11 107879496.00  \n",
       "3          7.20             12 135000000.00  \n",
       "4          6.50             12   4300000.00  "
      ]
     },
     "execution_count": 5,
     "metadata": {},
     "output_type": "execute_result"
    }
   ],
   "source": [
    "df.head()"
   ]
  },
  {
   "cell_type": "code",
   "execution_count": 6,
   "metadata": {},
   "outputs": [
    {
     "data": {
      "text/html": [
       "<div>\n",
       "<style scoped>\n",
       "    .dataframe tbody tr th:only-of-type {\n",
       "        vertical-align: middle;\n",
       "    }\n",
       "\n",
       "    .dataframe tbody tr th {\n",
       "        vertical-align: top;\n",
       "    }\n",
       "\n",
       "    .dataframe thead th {\n",
       "        text-align: right;\n",
       "    }\n",
       "</style>\n",
       "<table border=\"1\" class=\"dataframe\">\n",
       "  <thead>\n",
       "    <tr style=\"text-align: right;\">\n",
       "      <th></th>\n",
       "      <th>budget</th>\n",
       "      <th>runtime</th>\n",
       "      <th>popularity</th>\n",
       "      <th>vote_average</th>\n",
       "      <th>release_month</th>\n",
       "      <th>revenue</th>\n",
       "    </tr>\n",
       "  </thead>\n",
       "  <tbody>\n",
       "    <tr>\n",
       "      <th>budget</th>\n",
       "      <td>1.00</td>\n",
       "      <td>0.15</td>\n",
       "      <td>0.34</td>\n",
       "      <td>-0.17</td>\n",
       "      <td>0.04</td>\n",
       "      <td>0.57</td>\n",
       "    </tr>\n",
       "    <tr>\n",
       "      <th>runtime</th>\n",
       "      <td>0.15</td>\n",
       "      <td>1.00</td>\n",
       "      <td>0.05</td>\n",
       "      <td>0.31</td>\n",
       "      <td>0.11</td>\n",
       "      <td>0.12</td>\n",
       "    </tr>\n",
       "    <tr>\n",
       "      <th>popularity</th>\n",
       "      <td>0.34</td>\n",
       "      <td>0.05</td>\n",
       "      <td>1.00</td>\n",
       "      <td>0.21</td>\n",
       "      <td>0.03</td>\n",
       "      <td>0.41</td>\n",
       "    </tr>\n",
       "    <tr>\n",
       "      <th>vote_average</th>\n",
       "      <td>-0.17</td>\n",
       "      <td>0.31</td>\n",
       "      <td>0.21</td>\n",
       "      <td>1.00</td>\n",
       "      <td>0.08</td>\n",
       "      <td>0.06</td>\n",
       "    </tr>\n",
       "    <tr>\n",
       "      <th>release_month</th>\n",
       "      <td>0.04</td>\n",
       "      <td>0.11</td>\n",
       "      <td>0.03</td>\n",
       "      <td>0.08</td>\n",
       "      <td>1.00</td>\n",
       "      <td>0.05</td>\n",
       "    </tr>\n",
       "    <tr>\n",
       "      <th>revenue</th>\n",
       "      <td>0.57</td>\n",
       "      <td>0.12</td>\n",
       "      <td>0.41</td>\n",
       "      <td>0.06</td>\n",
       "      <td>0.05</td>\n",
       "      <td>1.00</td>\n",
       "    </tr>\n",
       "  </tbody>\n",
       "</table>\n",
       "</div>"
      ],
      "text/plain": [
       "               budget  runtime  popularity  vote_average  release_month  \\\n",
       "budget           1.00     0.15        0.34         -0.17           0.04   \n",
       "runtime          0.15     1.00        0.05          0.31           0.11   \n",
       "popularity       0.34     0.05        1.00          0.21           0.03   \n",
       "vote_average    -0.17     0.31        0.21          1.00           0.08   \n",
       "release_month    0.04     0.11        0.03          0.08           1.00   \n",
       "revenue          0.57     0.12        0.41          0.06           0.05   \n",
       "\n",
       "               revenue  \n",
       "budget            0.57  \n",
       "runtime           0.12  \n",
       "popularity        0.41  \n",
       "vote_average      0.06  \n",
       "release_month     0.05  \n",
       "revenue           1.00  "
      ]
     },
     "execution_count": 6,
     "metadata": {},
     "output_type": "execute_result"
    }
   ],
   "source": [
    "df.corr()"
   ]
  },
  {
   "cell_type": "code",
   "execution_count": 7,
   "metadata": {},
   "outputs": [],
   "source": [
    "train_x = df.drop(['revenue','genres'],axis=1)"
   ]
  },
  {
   "cell_type": "code",
   "execution_count": 8,
   "metadata": {},
   "outputs": [],
   "source": [
    "train_y = df['revenue']"
   ]
  },
  {
   "cell_type": "code",
   "execution_count": 9,
   "metadata": {},
   "outputs": [],
   "source": [
    "select = SelectKBest(score_func = chi2,k=5)\n",
    "best_feat = select.fit(train_x,train_y)"
   ]
  },
  {
   "cell_type": "code",
   "execution_count": 12,
   "metadata": {},
   "outputs": [
    {
     "name": "stdout",
     "output_type": "stream",
     "text": [
      "Index(['budget', 'runtime', 'popularity', 'vote_average', 'release_month'], dtype='object')\n",
      "[8.987e+10 1.014e+04 8.914e+03 4.517e+02 7.020e+03]\n"
     ]
    }
   ],
   "source": [
    "cols = train_x.columns\n",
    "print(cols)\n",
    "print(best_feat.scores_)"
   ]
  },
  {
   "cell_type": "code",
   "execution_count": 11,
   "metadata": {},
   "outputs": [
    {
     "data": {
      "text/plain": [
       "Index(['budget', 'runtime', 'popularity', 'release_month'], dtype='object')"
      ]
     },
     "execution_count": 11,
     "metadata": {},
     "output_type": "execute_result"
    }
   ],
   "source": [
    "features = train_x.columns[best_feat.get_support()]\n",
    "features"
   ]
  },
  {
   "cell_type": "code",
   "execution_count": 12,
   "metadata": {},
   "outputs": [],
   "source": [
    "def clean_genre(gen):\n",
    "    out = []\n",
    "    ret = gen.strip(\"] [\").split(', ')\n",
    "    for item in ret:\n",
    "        if item == '':\n",
    "            item = 'unknown'\n",
    "        out.append(item.strip(\"''\"))\n",
    "    return out"
   ]
  },
  {
   "cell_type": "code",
   "execution_count": 13,
   "metadata": {},
   "outputs": [],
   "source": [
    "genre = df['genres'].tolist()"
   ]
  },
  {
   "cell_type": "code",
   "execution_count": 14,
   "metadata": {},
   "outputs": [],
   "source": [
    "genres = []\n",
    "for item in genre:\n",
    "    test = clean_genre(item)\n",
    "    if test == '':\n",
    "        test = 'unknown'\n",
    "    genres.append(test)"
   ]
  },
  {
   "cell_type": "code",
   "execution_count": 15,
   "metadata": {},
   "outputs": [],
   "source": [
    "df['genres'] = genres"
   ]
  },
  {
   "cell_type": "code",
   "execution_count": 16,
   "metadata": {},
   "outputs": [],
   "source": [
    "df = df.explode('genres')"
   ]
  },
  {
   "cell_type": "code",
   "execution_count": 17,
   "metadata": {},
   "outputs": [],
   "source": [
    "df = df.reset_index(drop=True)"
   ]
  },
  {
   "cell_type": "code",
   "execution_count": 18,
   "metadata": {},
   "outputs": [],
   "source": [
    "test = df.groupby(df['genres'])['budget','runtime','popularity','vote_average','revenue']"
   ]
  },
  {
   "cell_type": "code",
   "execution_count": 19,
   "metadata": {},
   "outputs": [
    {
     "data": {
      "text/html": [
       "<div>\n",
       "<style scoped>\n",
       "    .dataframe tbody tr th:only-of-type {\n",
       "        vertical-align: middle;\n",
       "    }\n",
       "\n",
       "    .dataframe tbody tr th {\n",
       "        vertical-align: top;\n",
       "    }\n",
       "\n",
       "    .dataframe thead th {\n",
       "        text-align: right;\n",
       "    }\n",
       "</style>\n",
       "<table border=\"1\" class=\"dataframe\">\n",
       "  <thead>\n",
       "    <tr style=\"text-align: right;\">\n",
       "      <th></th>\n",
       "      <th>budget</th>\n",
       "      <th>runtime</th>\n",
       "      <th>popularity</th>\n",
       "      <th>vote_average</th>\n",
       "      <th>revenue</th>\n",
       "    </tr>\n",
       "    <tr>\n",
       "      <th>genres</th>\n",
       "      <th></th>\n",
       "      <th></th>\n",
       "      <th></th>\n",
       "      <th></th>\n",
       "      <th></th>\n",
       "    </tr>\n",
       "  </thead>\n",
       "  <tbody>\n",
       "    <tr>\n",
       "      <th>Action</th>\n",
       "      <td>28067978.48</td>\n",
       "      <td>107.73</td>\n",
       "      <td>8.57</td>\n",
       "      <td>6.04</td>\n",
       "      <td>52761918.50</td>\n",
       "    </tr>\n",
       "    <tr>\n",
       "      <th>Adventure</th>\n",
       "      <td>29795107.13</td>\n",
       "      <td>107.04</td>\n",
       "      <td>8.82</td>\n",
       "      <td>6.12</td>\n",
       "      <td>57717963.13</td>\n",
       "    </tr>\n",
       "    <tr>\n",
       "      <th>Animation</th>\n",
       "      <td>30455704.90</td>\n",
       "      <td>88.24</td>\n",
       "      <td>9.33</td>\n",
       "      <td>6.38</td>\n",
       "      <td>64679040.41</td>\n",
       "    </tr>\n",
       "    <tr>\n",
       "      <th>Comedy</th>\n",
       "      <td>21344093.64</td>\n",
       "      <td>101.93</td>\n",
       "      <td>7.52</td>\n",
       "      <td>6.09</td>\n",
       "      <td>48600150.63</td>\n",
       "    </tr>\n",
       "    <tr>\n",
       "      <th>Crime</th>\n",
       "      <td>23019434.81</td>\n",
       "      <td>108.67</td>\n",
       "      <td>8.70</td>\n",
       "      <td>6.38</td>\n",
       "      <td>46041250.97</td>\n",
       "    </tr>\n",
       "    <tr>\n",
       "      <th>Documentary</th>\n",
       "      <td>4587807.55</td>\n",
       "      <td>96.71</td>\n",
       "      <td>4.31</td>\n",
       "      <td>6.78</td>\n",
       "      <td>17543896.05</td>\n",
       "    </tr>\n",
       "    <tr>\n",
       "      <th>Drama</th>\n",
       "      <td>18037238.61</td>\n",
       "      <td>111.89</td>\n",
       "      <td>7.64</td>\n",
       "      <td>6.49</td>\n",
       "      <td>36972948.40</td>\n",
       "    </tr>\n",
       "    <tr>\n",
       "      <th>Family</th>\n",
       "      <td>32306904.85</td>\n",
       "      <td>95.99</td>\n",
       "      <td>8.48</td>\n",
       "      <td>6.01</td>\n",
       "      <td>67393542.16</td>\n",
       "    </tr>\n",
       "    <tr>\n",
       "      <th>Fantasy</th>\n",
       "      <td>31407920.72</td>\n",
       "      <td>102.47</td>\n",
       "      <td>9.31</td>\n",
       "      <td>6.07</td>\n",
       "      <td>58531012.98</td>\n",
       "    </tr>\n",
       "    <tr>\n",
       "      <th>Foreign</th>\n",
       "      <td>3661463.41</td>\n",
       "      <td>120.00</td>\n",
       "      <td>0.99</td>\n",
       "      <td>5.86</td>\n",
       "      <td>4305450.32</td>\n",
       "    </tr>\n",
       "    <tr>\n",
       "      <th>History</th>\n",
       "      <td>23991221.07</td>\n",
       "      <td>125.04</td>\n",
       "      <td>7.61</td>\n",
       "      <td>6.74</td>\n",
       "      <td>41115323.36</td>\n",
       "    </tr>\n",
       "    <tr>\n",
       "      <th>Horror</th>\n",
       "      <td>14461839.46</td>\n",
       "      <td>97.69</td>\n",
       "      <td>8.86</td>\n",
       "      <td>5.83</td>\n",
       "      <td>39788040.42</td>\n",
       "    </tr>\n",
       "    <tr>\n",
       "      <th>Music</th>\n",
       "      <td>17819100.90</td>\n",
       "      <td>108.84</td>\n",
       "      <td>7.19</td>\n",
       "      <td>6.41</td>\n",
       "      <td>46267282.83</td>\n",
       "    </tr>\n",
       "    <tr>\n",
       "      <th>Mystery</th>\n",
       "      <td>22993633.26</td>\n",
       "      <td>108.86</td>\n",
       "      <td>8.84</td>\n",
       "      <td>6.30</td>\n",
       "      <td>43720971.73</td>\n",
       "    </tr>\n",
       "    <tr>\n",
       "      <th>Romance</th>\n",
       "      <td>18847793.07</td>\n",
       "      <td>109.86</td>\n",
       "      <td>7.18</td>\n",
       "      <td>6.29</td>\n",
       "      <td>42497182.26</td>\n",
       "    </tr>\n",
       "    <tr>\n",
       "      <th>Science Fiction</th>\n",
       "      <td>26901114.41</td>\n",
       "      <td>102.72</td>\n",
       "      <td>8.96</td>\n",
       "      <td>5.99</td>\n",
       "      <td>47142563.20</td>\n",
       "    </tr>\n",
       "    <tr>\n",
       "      <th>TV Movie</th>\n",
       "      <td>5000000.00</td>\n",
       "      <td>89.00</td>\n",
       "      <td>5.15</td>\n",
       "      <td>6.00</td>\n",
       "      <td>42000000.00</td>\n",
       "    </tr>\n",
       "    <tr>\n",
       "      <th>Thriller</th>\n",
       "      <td>23872871.28</td>\n",
       "      <td>106.93</td>\n",
       "      <td>8.91</td>\n",
       "      <td>6.14</td>\n",
       "      <td>47476094.55</td>\n",
       "    </tr>\n",
       "    <tr>\n",
       "      <th>War</th>\n",
       "      <td>23453219.83</td>\n",
       "      <td>120.47</td>\n",
       "      <td>7.89</td>\n",
       "      <td>6.66</td>\n",
       "      <td>42837593.44</td>\n",
       "    </tr>\n",
       "    <tr>\n",
       "      <th>Western</th>\n",
       "      <td>15785029.92</td>\n",
       "      <td>113.38</td>\n",
       "      <td>8.25</td>\n",
       "      <td>6.69</td>\n",
       "      <td>29050625.68</td>\n",
       "    </tr>\n",
       "    <tr>\n",
       "      <th>unknown</th>\n",
       "      <td>2566666.67</td>\n",
       "      <td>113.44</td>\n",
       "      <td>1.18</td>\n",
       "      <td>5.73</td>\n",
       "      <td>16961663.78</td>\n",
       "    </tr>\n",
       "  </tbody>\n",
       "</table>\n",
       "</div>"
      ],
      "text/plain": [
       "                     budget  runtime  popularity  vote_average     revenue\n",
       "genres                                                                    \n",
       "Action          28067978.48   107.73        8.57          6.04 52761918.50\n",
       "Adventure       29795107.13   107.04        8.82          6.12 57717963.13\n",
       "Animation       30455704.90    88.24        9.33          6.38 64679040.41\n",
       "Comedy          21344093.64   101.93        7.52          6.09 48600150.63\n",
       "Crime           23019434.81   108.67        8.70          6.38 46041250.97\n",
       "Documentary      4587807.55    96.71        4.31          6.78 17543896.05\n",
       "Drama           18037238.61   111.89        7.64          6.49 36972948.40\n",
       "Family          32306904.85    95.99        8.48          6.01 67393542.16\n",
       "Fantasy         31407920.72   102.47        9.31          6.07 58531012.98\n",
       "Foreign          3661463.41   120.00        0.99          5.86  4305450.32\n",
       "History         23991221.07   125.04        7.61          6.74 41115323.36\n",
       "Horror          14461839.46    97.69        8.86          5.83 39788040.42\n",
       "Music           17819100.90   108.84        7.19          6.41 46267282.83\n",
       "Mystery         22993633.26   108.86        8.84          6.30 43720971.73\n",
       "Romance         18847793.07   109.86        7.18          6.29 42497182.26\n",
       "Science Fiction 26901114.41   102.72        8.96          5.99 47142563.20\n",
       "TV Movie         5000000.00    89.00        5.15          6.00 42000000.00\n",
       "Thriller        23872871.28   106.93        8.91          6.14 47476094.55\n",
       "War             23453219.83   120.47        7.89          6.66 42837593.44\n",
       "Western         15785029.92   113.38        8.25          6.69 29050625.68\n",
       "unknown          2566666.67   113.44        1.18          5.73 16961663.78"
      ]
     },
     "execution_count": 19,
     "metadata": {},
     "output_type": "execute_result"
    }
   ],
   "source": [
    "test.mean()"
   ]
  },
  {
   "cell_type": "code",
   "execution_count": 20,
   "metadata": {},
   "outputs": [],
   "source": [
    "genres = np.unique(df['genres'])\n",
    "genre_vs_revenue = {}"
   ]
  },
  {
   "cell_type": "code",
   "execution_count": 21,
   "metadata": {},
   "outputs": [],
   "source": [
    "def get_revenue_mean(genres):\n",
    "    for gen in genres:\n",
    "        rev = df['revenue'].loc[df['genres'] == gen].sum()\n",
    "        num_of_gen = df['revenue'].loc[df['genres'] == gen].count()\n",
    "        mean = rev / num_of_gen\n",
    "        if gen == '':\n",
    "            gen = 'unknown'\n",
    "        genre_vs_revenue[gen] = mean"
   ]
  },
  {
   "cell_type": "code",
   "execution_count": 22,
   "metadata": {},
   "outputs": [],
   "source": [
    "get_revenue_mean(genres)"
   ]
  },
  {
   "cell_type": "code",
   "execution_count": 23,
   "metadata": {},
   "outputs": [],
   "source": [
    "sorted_rev = sorted(genre_vs_revenue.items(), key = lambda kv: kv[1])\n",
    "sorted_rev = dict(sorted_rev)"
   ]
  },
  {
   "cell_type": "code",
   "execution_count": 24,
   "metadata": {},
   "outputs": [
    {
     "data": {
      "image/png": "[encoded data removed]",
      "text/plain": [
       "<Figure size 2160x1440 with 1 Axes>"
      ]
     },
     "metadata": {
      "needs_background": "light"
     },
     "output_type": "display_data"
    }
   ],
   "source": [
    "# average revenue for each genre\n",
    "plt.bar(sorted_rev.keys(),sorted_rev.values())\n",
    "plt.rcParams[\"font.weight\"] = \"bold\"\n",
    "plt.rcParams[\"axes.labelweight\"] = \"bold\"\n",
    "plt.xlabel(\"Genre\",fontsize=25)\n",
    "plt.ylabel(\"Revenue\",fontsize=25)\n",
    "plt.yticks(fontsize=20)\n",
    "fig = plt.gcf()\n",
    "fig.set_size_inches(30, 20)"
   ]
  },
  {
   "cell_type": "code",
   "execution_count": 25,
   "metadata": {},
   "outputs": [],
   "source": [
    "df.to_csv(\"final_df.csv\",index=False)"
   ]
  }
 ],
 "metadata": {
  "kernelspec": {
   "display_name": "Python 3",
   "language": "python",
   "name": "python3"
  },
  "language_info": {
   "codemirror_mode": {
    "name": "ipython",
    "version": 3
   },
   "file_extension": ".py",
   "mimetype": "text/x-python",
   "name": "python",
   "nbconvert_exporter": "python",
   "pygments_lexer": "ipython3",
   "version": "3.8.5"
  }
 },
 "nbformat": 4,
 "nbformat_minor": 4
}
